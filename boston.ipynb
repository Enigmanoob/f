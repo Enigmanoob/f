{
 "cells": [
  {
   "cell_type": "code",
   "execution_count": 1,
   "id": "6900cb03",
   "metadata": {},
   "outputs": [],
   "source": [
    "import numpy as np\n",
    "from sklearn.datasets import fetch_california_housing\n",
    "from sklearn.model_selection import train_test_split\n",
    "from sklearn.preprocessing import StandardScaler\n",
    "from tensorflow.keras.models import Sequential\n",
    "from tensorflow.keras.layers import Dense"
   ]
  },
  {
   "cell_type": "code",
   "execution_count": 2,
   "id": "7dfa9896",
   "metadata": {},
   "outputs": [],
   "source": [
    "housing = fetch_california_housing()"
   ]
  },
  {
   "cell_type": "code",
   "execution_count": 3,
   "id": "777ae12d",
   "metadata": {},
   "outputs": [],
   "source": [
    "X_train, X_test, y_train, y_test = train_test_split(housing.data, housing.target, test_size=0.2, random_state=42)"
   ]
  },
  {
   "cell_type": "code",
   "execution_count": 4,
   "id": "0fe1fa75",
   "metadata": {},
   "outputs": [],
   "source": [
    "scaler = StandardScaler()\n",
    "X_train = scaler.fit_transform(X_train)\n",
    "X_test = scaler.transform(X_test)"
   ]
  },
  {
   "cell_type": "code",
   "execution_count": 5,
   "id": "3498706b",
   "metadata": {},
   "outputs": [],
   "source": [
    "model = Sequential()\n",
    "model.add(Dense(64, activation='relu', input_shape=(X_train.shape[1],)))\n",
    "model.add(Dense(64, activation='relu'))\n",
    "model.add(Dense(1))"
   ]
  },
  {
   "cell_type": "code",
   "execution_count": 6,
   "id": "925efee1",
   "metadata": {},
   "outputs": [],
   "source": [
    "model.compile(optimizer='adam', loss='mean_squared_error')\n"
   ]
  },
  {
   "cell_type": "code",
   "execution_count": 7,
   "id": "c5605d5b",
   "metadata": {},
   "outputs": [
    {
     "name": "stdout",
     "output_type": "stream",
     "text": [
      "Epoch 1/100\n",
      "516/516 [==============================] - 2s 2ms/step - loss: 0.8218\n",
      "Epoch 2/100\n",
      "516/516 [==============================] - 1s 1ms/step - loss: 0.3925\n",
      "Epoch 3/100\n",
      "516/516 [==============================] - 1s 1ms/step - loss: 0.3672\n",
      "Epoch 4/100\n",
      "516/516 [==============================] - 1s 1ms/step - loss: 0.3705\n",
      "Epoch 5/100\n",
      "516/516 [==============================] - 1s 1ms/step - loss: 0.3400\n",
      "Epoch 6/100\n",
      "516/516 [==============================] - 1s 1ms/step - loss: 0.3263\n",
      "Epoch 7/100\n",
      "516/516 [==============================] - 1s 1ms/step - loss: 0.3231\n",
      "Epoch 8/100\n",
      "516/516 [==============================] - 1s 1ms/step - loss: 0.3192\n",
      "Epoch 9/100\n",
      "516/516 [==============================] - 1s 2ms/step - loss: 0.3061\n",
      "Epoch 10/100\n",
      "516/516 [==============================] - 1s 1ms/step - loss: 0.2988\n",
      "Epoch 11/100\n",
      "516/516 [==============================] - 1s 1ms/step - loss: 0.2970\n",
      "Epoch 12/100\n",
      "516/516 [==============================] - 1s 2ms/step - loss: 0.2911\n",
      "Epoch 13/100\n",
      "516/516 [==============================] - 1s 1ms/step - loss: 0.2882\n",
      "Epoch 14/100\n",
      "516/516 [==============================] - 1s 1ms/step - loss: 0.2934\n",
      "Epoch 15/100\n",
      "516/516 [==============================] - 1s 1ms/step - loss: 0.2804\n",
      "Epoch 16/100\n",
      "516/516 [==============================] - 1s 1ms/step - loss: 0.2817\n",
      "Epoch 17/100\n",
      "516/516 [==============================] - 1s 1ms/step - loss: 0.2769\n",
      "Epoch 18/100\n",
      "516/516 [==============================] - 1s 1ms/step - loss: 0.2768\n",
      "Epoch 19/100\n",
      "516/516 [==============================] - 1s 1ms/step - loss: 0.2716\n",
      "Epoch 20/100\n",
      "516/516 [==============================] - 1s 1ms/step - loss: 0.2707\n",
      "Epoch 21/100\n",
      "516/516 [==============================] - 1s 1ms/step - loss: 0.2729\n",
      "Epoch 22/100\n",
      "516/516 [==============================] - 1s 1ms/step - loss: 0.2697\n",
      "Epoch 23/100\n",
      "516/516 [==============================] - 1s 1ms/step - loss: 0.2721\n",
      "Epoch 24/100\n",
      "516/516 [==============================] - 1s 1ms/step - loss: 0.2661\n",
      "Epoch 25/100\n",
      "516/516 [==============================] - 1s 1ms/step - loss: 0.2647\n",
      "Epoch 26/100\n",
      "516/516 [==============================] - 1s 1ms/step - loss: 0.2650\n",
      "Epoch 27/100\n",
      "516/516 [==============================] - 1s 1ms/step - loss: 0.2605\n",
      "Epoch 28/100\n",
      "516/516 [==============================] - 1s 1ms/step - loss: 0.2597\n",
      "Epoch 29/100\n",
      "516/516 [==============================] - 1s 1ms/step - loss: 0.2606\n",
      "Epoch 30/100\n",
      "516/516 [==============================] - 1s 1ms/step - loss: 0.2603\n",
      "Epoch 31/100\n",
      "516/516 [==============================] - 1s 1ms/step - loss: 0.2572\n",
      "Epoch 32/100\n",
      "516/516 [==============================] - 1s 1ms/step - loss: 0.2580\n",
      "Epoch 33/100\n",
      "516/516 [==============================] - 1s 1ms/step - loss: 0.2557\n",
      "Epoch 34/100\n",
      "516/516 [==============================] - 1s 1ms/step - loss: 0.2547\n",
      "Epoch 35/100\n",
      "516/516 [==============================] - 1s 1ms/step - loss: 0.2542\n",
      "Epoch 36/100\n",
      "516/516 [==============================] - 1s 1ms/step - loss: 0.2542\n",
      "Epoch 37/100\n",
      "516/516 [==============================] - 1s 1ms/step - loss: 0.2585\n",
      "Epoch 38/100\n",
      "516/516 [==============================] - 1s 1ms/step - loss: 0.2512\n",
      "Epoch 39/100\n",
      "516/516 [==============================] - 1s 1ms/step - loss: 0.2521\n",
      "Epoch 40/100\n",
      "516/516 [==============================] - 1s 1ms/step - loss: 0.2480\n",
      "Epoch 41/100\n",
      "516/516 [==============================] - 1s 2ms/step - loss: 0.2479\n",
      "Epoch 42/100\n",
      "516/516 [==============================] - 1s 1ms/step - loss: 0.2488\n",
      "Epoch 43/100\n",
      "516/516 [==============================] - 1s 1ms/step - loss: 0.2471\n",
      "Epoch 44/100\n",
      "516/516 [==============================] - 1s 1ms/step - loss: 0.2438\n",
      "Epoch 45/100\n",
      "516/516 [==============================] - 1s 1ms/step - loss: 0.2450\n",
      "Epoch 46/100\n",
      "516/516 [==============================] - 1s 1ms/step - loss: 0.2444\n",
      "Epoch 47/100\n",
      "516/516 [==============================] - 1s 1ms/step - loss: 0.2453\n",
      "Epoch 48/100\n",
      "516/516 [==============================] - 1s 1ms/step - loss: 0.2395\n",
      "Epoch 49/100\n",
      "516/516 [==============================] - 1s 1ms/step - loss: 0.2411\n",
      "Epoch 50/100\n",
      "516/516 [==============================] - 1s 1ms/step - loss: 0.2379\n",
      "Epoch 51/100\n",
      "516/516 [==============================] - 1s 1ms/step - loss: 0.2394\n",
      "Epoch 52/100\n",
      "516/516 [==============================] - 1s 1ms/step - loss: 0.2385\n",
      "Epoch 53/100\n",
      "516/516 [==============================] - 1s 1ms/step - loss: 0.2396\n",
      "Epoch 54/100\n",
      "516/516 [==============================] - 1s 1ms/step - loss: 0.2358\n",
      "Epoch 55/100\n",
      "516/516 [==============================] - 1s 1ms/step - loss: 0.2363\n",
      "Epoch 56/100\n",
      "516/516 [==============================] - 1s 1ms/step - loss: 0.2363\n",
      "Epoch 57/100\n",
      "516/516 [==============================] - 1s 1ms/step - loss: 0.2345\n",
      "Epoch 58/100\n",
      "516/516 [==============================] - 1s 1ms/step - loss: 0.2345\n",
      "Epoch 59/100\n",
      "516/516 [==============================] - 1s 1ms/step - loss: 0.2316\n",
      "Epoch 60/100\n",
      "516/516 [==============================] - 1s 2ms/step - loss: 0.2318\n",
      "Epoch 61/100\n",
      "516/516 [==============================] - 1s 1ms/step - loss: 0.2279\n",
      "Epoch 62/100\n",
      "516/516 [==============================] - 1s 1ms/step - loss: 0.2340\n",
      "Epoch 63/100\n",
      "516/516 [==============================] - 1s 1ms/step - loss: 0.2291\n",
      "Epoch 64/100\n",
      "516/516 [==============================] - 1s 1ms/step - loss: 0.2277\n",
      "Epoch 65/100\n",
      "516/516 [==============================] - 1s 1ms/step - loss: 0.2287\n",
      "Epoch 66/100\n",
      "516/516 [==============================] - 1s 1ms/step - loss: 0.2261\n",
      "Epoch 67/100\n",
      "516/516 [==============================] - 1s 1ms/step - loss: 0.2293\n",
      "Epoch 68/100\n",
      "516/516 [==============================] - 1s 1ms/step - loss: 0.2280\n",
      "Epoch 69/100\n",
      "516/516 [==============================] - 1s 1ms/step - loss: 0.2254\n",
      "Epoch 70/100\n",
      "516/516 [==============================] - 1s 1ms/step - loss: 0.2246\n",
      "Epoch 71/100\n",
      "516/516 [==============================] - 1s 1ms/step - loss: 0.2240\n",
      "Epoch 72/100\n",
      "516/516 [==============================] - 1s 1ms/step - loss: 0.2241\n",
      "Epoch 73/100\n",
      "516/516 [==============================] - 1s 1ms/step - loss: 0.2228\n",
      "Epoch 74/100\n",
      "516/516 [==============================] - 1s 1ms/step - loss: 0.2223\n",
      "Epoch 75/100\n",
      "516/516 [==============================] - 1s 1ms/step - loss: 0.2240\n",
      "Epoch 76/100\n",
      "516/516 [==============================] - 1s 1ms/step - loss: 0.2225\n",
      "Epoch 77/100\n",
      "516/516 [==============================] - 1s 1ms/step - loss: 0.2201\n",
      "Epoch 78/100\n",
      "516/516 [==============================] - 1s 1ms/step - loss: 0.2215\n",
      "Epoch 79/100\n",
      "516/516 [==============================] - 1s 1ms/step - loss: 0.2197\n",
      "Epoch 80/100\n",
      "516/516 [==============================] - 1s 1ms/step - loss: 0.2194\n",
      "Epoch 81/100\n",
      "516/516 [==============================] - 1s 1ms/step - loss: 0.2186\n",
      "Epoch 82/100\n",
      "516/516 [==============================] - 1s 1ms/step - loss: 0.2189\n",
      "Epoch 83/100\n",
      "516/516 [==============================] - 1s 1ms/step - loss: 0.2187\n",
      "Epoch 84/100\n",
      "516/516 [==============================] - 1s 1ms/step - loss: 0.2178\n",
      "Epoch 85/100\n",
      "516/516 [==============================] - 1s 1ms/step - loss: 0.2160\n",
      "Epoch 86/100\n",
      "516/516 [==============================] - 1s 1ms/step - loss: 0.2163\n",
      "Epoch 87/100\n",
      "516/516 [==============================] - 1s 1ms/step - loss: 0.2151\n",
      "Epoch 88/100\n",
      "516/516 [==============================] - 1s 1ms/step - loss: 0.2163\n",
      "Epoch 89/100\n",
      "516/516 [==============================] - 1s 1ms/step - loss: 0.2144\n",
      "Epoch 90/100\n",
      "516/516 [==============================] - 1s 1ms/step - loss: 0.2137\n",
      "Epoch 91/100\n",
      "516/516 [==============================] - 1s 1ms/step - loss: 0.2134\n",
      "Epoch 92/100\n",
      "516/516 [==============================] - 1s 1ms/step - loss: 0.2127\n",
      "Epoch 93/100\n",
      "516/516 [==============================] - 1s 1ms/step - loss: 0.2140\n",
      "Epoch 94/100\n",
      "516/516 [==============================] - 1s 1ms/step - loss: 0.2128\n",
      "Epoch 95/100\n",
      "516/516 [==============================] - 1s 2ms/step - loss: 0.2122\n",
      "Epoch 96/100\n",
      "516/516 [==============================] - 1s 1ms/step - loss: 0.2110\n",
      "Epoch 97/100\n",
      "516/516 [==============================] - 1s 1ms/step - loss: 0.2126\n",
      "Epoch 98/100\n",
      "516/516 [==============================] - 1s 1ms/step - loss: 0.2126\n",
      "Epoch 99/100\n"
     ]
    },
    {
     "name": "stdout",
     "output_type": "stream",
     "text": [
      "516/516 [==============================] - 1s 1ms/step - loss: 0.2130\n",
      "Epoch 100/100\n",
      "516/516 [==============================] - 1s 1ms/step - loss: 0.2104\n"
     ]
    },
    {
     "data": {
      "text/plain": [
       "<keras.callbacks.History at 0x17d7718afd0>"
      ]
     },
     "execution_count": 7,
     "metadata": {},
     "output_type": "execute_result"
    }
   ],
   "source": [
    "model.fit(X_train, y_train, epochs=100, batch_size=32, verbose=1)\n"
   ]
  },
  {
   "cell_type": "code",
   "execution_count": 8,
   "id": "be5da6d9",
   "metadata": {},
   "outputs": [
    {
     "name": "stdout",
     "output_type": "stream",
     "text": [
      "Test Loss: 0.26310279965400696\n"
     ]
    }
   ],
   "source": [
    "loss = model.evaluate(X_test, y_test, verbose=0)\n",
    "print(f'Test Loss: {loss}')"
   ]
  },
  {
   "cell_type": "code",
   "execution_count": 9,
   "id": "0cc5bfae",
   "metadata": {},
   "outputs": [
    {
     "name": "stdout",
     "output_type": "stream",
     "text": [
      "129/129 [==============================] - 0s 1ms/step\n"
     ]
    }
   ],
   "source": [
    "y_pred = model.predict(X_test)\n"
   ]
  },
  {
   "cell_type": "code",
   "execution_count": 10,
   "id": "0f4c5853",
   "metadata": {},
   "outputs": [
    {
     "name": "stdout",
     "output_type": "stream",
     "text": [
      "True Price: 0.477, Predicted Price: 0.4829469323158264\n",
      "True Price: 0.458, Predicted Price: 0.8929989337921143\n",
      "True Price: 5.00001, Predicted Price: 4.957732677459717\n",
      "True Price: 2.186, Predicted Price: 2.395681142807007\n",
      "True Price: 2.78, Predicted Price: 2.646941900253296\n",
      "True Price: 1.587, Predicted Price: 1.7233047485351562\n",
      "True Price: 1.982, Predicted Price: 2.1274075508117676\n",
      "True Price: 1.575, Predicted Price: 1.644397258758545\n",
      "True Price: 3.4, Predicted Price: 2.5853028297424316\n",
      "True Price: 4.466, Predicted Price: 4.825254917144775\n"
     ]
    }
   ],
   "source": [
    "for i in range(10):\n",
    "    print(f'True Price: {y_test[i]}, Predicted Price: {y_pred[i][0]}')"
   ]
  },
  {
   "cell_type": "code",
   "execution_count": null,
   "id": "5ff83a26",
   "metadata": {},
   "outputs": [],
   "source": []
  }
 ],
 "metadata": {
  "kernelspec": {
   "display_name": "Python 3 (ipykernel)",
   "language": "python",
   "name": "python3"
  },
  "language_info": {
   "codemirror_mode": {
    "name": "ipython",
    "version": 3
   },
   "file_extension": ".py",
   "mimetype": "text/x-python",
   "name": "python",
   "nbconvert_exporter": "python",
   "pygments_lexer": "ipython3",
   "version": "3.9.12"
  }
 },
 "nbformat": 4,
 "nbformat_minor": 5
}
